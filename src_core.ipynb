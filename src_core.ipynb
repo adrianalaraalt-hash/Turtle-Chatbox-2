{
  "nbformat": 4,
  "nbformat_minor": 0,
  "metadata": {
    "colab": {
      "provenance": [],
      "authorship_tag": "ABX9TyM506ZYJK/F3LjrktjHuJdQ",
      "include_colab_link": true
    },
    "kernelspec": {
      "name": "python3",
      "display_name": "Python 3"
    },
    "language_info": {
      "name": "python"
    }
  },
  "cells": [
    {
      "cell_type": "markdown",
      "metadata": {
        "id": "view-in-github",
        "colab_type": "text"
      },
      "source": [
        "<a href=\"https://colab.research.google.com/github/adrianalaraalt-hash/Turtle-Chatbox-2/blob/main/src_core.ipynb\" target=\"_parent\"><img src=\"https://colab.research.google.com/assets/colab-badge.svg\" alt=\"Open In Colab\"/></a>"
      ]
    },
    {
      "cell_type": "code",
      "execution_count": 1,
      "metadata": {
        "id": "tGizYAgb2TKh"
      },
      "outputs": [],
      "source": [
        "# src/core.py\n",
        "from typing import List, Dict, Any\n",
        "\n",
        "def create_task(name: str, due: str) -> Dict[str, Any]:\n",
        "    \"\"\"\n",
        "    Create a new task dictionary with a name and due date.\n",
        "\n",
        "    Args:\n",
        "        name (str): Title of the task (e.g., \"Write essay\").\n",
        "        due  (str): Due date (e.g., \"2025-09-15\").\n",
        "\n",
        "    Returns:\n",
        "        Dict[str, Any]: Task data with completion flag.\n",
        "    \"\"\"\n",
        "    # Trim extra spaces just in case\n",
        "    name = name.strip()\n",
        "    due = due.strip()\n",
        "    # Basic task structure\n",
        "    return {\"name\": name, \"due\": due, \"done\": False}\n",
        "\n",
        "def mark_done(task: Dict[str, Any]) -> Dict[str, Any]:\n",
        "    \"\"\"\n",
        "    Mark a task as completed.\n",
        "\n",
        "    Args:\n",
        "        task (Dict[str, Any]): A task from create_task().\n",
        "\n",
        "    Returns:\n",
        "        Dict[str, Any]: The same task with \"done\" set to True.\n",
        "    \"\"\"\n",
        "    # Flip the finished flag\n",
        "    task[\"done\"] = True\n",
        "    # Return the updated task\n",
        "    return task\n",
        "\n",
        "def list_tasks(tasks: List[Dict[str, Any]]) -> List[str]:\n",
        "    \"\"\"\n",
        "    Convert tasks into human-readable strings.\n",
        "\n",
        "    Args:\n",
        "        tasks (List[Dict[str, Any]]): Task dictionaries.\n",
        "\n",
        "    Returns:\n",
        "        List[str]: One line per task, with status and due date.\n",
        "    \"\"\"\n",
        "    lines: List[str] = []\n",
        "    for t in tasks:\n",
        "        status = \"✅\" if t.get(\"done\") else \"❌\"   # checkmark or cross\n",
        "        lines.append(f\"{status} {t.get('name')} (Due: {t.get('due')})\")\n",
        "    return lines\n"
      ]
    }
  ]
}