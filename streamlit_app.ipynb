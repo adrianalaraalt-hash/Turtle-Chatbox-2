{
  "nbformat": 4,
  "nbformat_minor": 0,
  "metadata": {
    "colab": {
      "provenance": [],
      "authorship_tag": "ABX9TyNJc3LLNezKRD7xgPmfxV/S",
      "include_colab_link": true
    },
    "kernelspec": {
      "name": "python3",
      "display_name": "Python 3"
    },
    "language_info": {
      "name": "python"
    }
  },
  "cells": [
    {
      "cell_type": "markdown",
      "metadata": {
        "id": "view-in-github",
        "colab_type": "text"
      },
      "source": [
        "<a href=\"https://colab.research.google.com/github/adrianalaraalt-hash/Turtle-Chatbox-2/blob/main/streamlit_app.ipynb\" target=\"_parent\"><img src=\"https://colab.research.google.com/assets/colab-badge.svg\" alt=\"Open In Colab\"/></a>"
      ]
    },
    {
      "cell_type": "code",
      "execution_count": 2,
      "metadata": {
        "colab": {
          "base_uri": "https://localhost:8080/",
          "height": 385
        },
        "id": "hH60V3Mv6QyN",
        "outputId": "819cdc31-adb1-456a-b91f-f8e41d6de320"
      },
      "outputs": [
        {
          "output_type": "error",
          "ename": "ModuleNotFoundError",
          "evalue": "No module named 'streamlit'",
          "traceback": [
            "\u001b[0;31m---------------------------------------------------------------------------\u001b[0m",
            "\u001b[0;31mModuleNotFoundError\u001b[0m                       Traceback (most recent call last)",
            "\u001b[0;32m/tmp/ipython-input-3024596655.py\u001b[0m in \u001b[0;36m<cell line: 0>\u001b[0;34m()\u001b[0m\n\u001b[1;32m      1\u001b[0m \u001b[0;31m# streamlit_app.py\u001b[0m\u001b[0;34m\u001b[0m\u001b[0;34m\u001b[0m\u001b[0m\n\u001b[0;32m----> 2\u001b[0;31m \u001b[0;32mimport\u001b[0m \u001b[0mstreamlit\u001b[0m \u001b[0;32mas\u001b[0m \u001b[0mst\u001b[0m\u001b[0;34m\u001b[0m\u001b[0;34m\u001b[0m\u001b[0m\n\u001b[0m\u001b[1;32m      3\u001b[0m \u001b[0;32mfrom\u001b[0m \u001b[0mdatetime\u001b[0m \u001b[0;32mimport\u001b[0m \u001b[0mdate\u001b[0m\u001b[0;34m\u001b[0m\u001b[0;34m\u001b[0m\u001b[0m\n\u001b[1;32m      4\u001b[0m \u001b[0;32mfrom\u001b[0m \u001b[0msrc\u001b[0m\u001b[0;34m.\u001b[0m\u001b[0mcore\u001b[0m \u001b[0;32mimport\u001b[0m \u001b[0mcreate_task\u001b[0m\u001b[0;34m,\u001b[0m \u001b[0mmark_done\u001b[0m\u001b[0;34m,\u001b[0m \u001b[0mlist_tasks\u001b[0m\u001b[0;34m\u001b[0m\u001b[0;34m\u001b[0m\u001b[0m\n\u001b[1;32m      5\u001b[0m \u001b[0;34m\u001b[0m\u001b[0m\n",
            "\u001b[0;31mModuleNotFoundError\u001b[0m: No module named 'streamlit'",
            "",
            "\u001b[0;31m---------------------------------------------------------------------------\u001b[0;32m\nNOTE: If your import is failing due to a missing package, you can\nmanually install dependencies using either !pip or !apt.\n\nTo view examples of installing some common dependencies, click the\n\"Open Examples\" button below.\n\u001b[0;31m---------------------------------------------------------------------------\u001b[0m\n"
          ],
          "errorDetails": {
            "actions": [
              {
                "action": "open_url",
                "actionText": "Open Examples",
                "url": "/notebooks/snippets/importing_libraries.ipynb"
              }
            ]
          }
        }
      ],
      "source": [
        "# streamlit_app.py\n",
        "import streamlit as st\n",
        "from datetime import date\n",
        "from src.core import create_task, mark_done, list_tasks\n",
        "\n",
        "st.title(\"🎓 Student Task Manager (Vertical Slice)\")\n",
        "\n",
        "# Keep tasks across reruns\n",
        "if \"tasks\" not in st.session_state:\n",
        "    st.session_state.tasks = []\n",
        "\n",
        "# --- Inputs ---\n",
        "task_name = st.text_input(\"Task name\")\n",
        "due_dt = st.date_input(\"Due date\", value=date.today())\n",
        "\n",
        "# Button to add a task\n",
        "if st.button(\"Add Task\"):\n",
        "    if task_name.strip():\n",
        "        new_task = create_task(task_name, str(due_dt))\n",
        "        st.session_state.tasks.append(new_task)\n",
        "        st.success(f\"Added: {task_name}\")\n",
        "    else:\n",
        "        st.warning(\"Please enter a task name.\")\n",
        "\n",
        "st.divider()\n",
        "\n",
        "# --- Display & mark done ---\n",
        "st.subheader(\"Your tasks\")\n",
        "if not st.session_state.tasks:\n",
        "    st.info(\"No tasks yet. Add one above!\")\n",
        "else:\n",
        "    # Show each task with a checkbox to mark done\n",
        "    for i, t in enumerate(st.session_state.tasks):\n",
        "        checked = st.checkbox(\n",
        "            f\"{t['name']} — due {t['due']}\",\n",
        "            value=t[\"done\"],\n",
        "            key=f\"done_{i}\"\n",
        "        )\n",
        "        # Keep the underlying dict in sync with the checkbox\n",
        "        st.session_state.tasks[i][\"done\"] = bool(checked)\n",
        "\n",
        "    # Pretty list below\n",
        "    st.write(\"—\")\n",
        "    for line in list_tasks(st.session_state.tasks):\n",
        "        st.write(line)\n",
        "\n",
        "# Optional reset\n",
        "if st.button(\"Clear all tasks\"):\n",
        "    st.session_state.tasks = []\n",
        "    st.warning(\"Cleared all tasks.\")\n"
      ]
    }
  ]
}